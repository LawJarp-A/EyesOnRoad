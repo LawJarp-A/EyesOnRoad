{
 "cells": [
  {
   "cell_type": "markdown",
   "metadata": {},
   "source": [
    "## Applying facial features recog to a image"
   ]
  },
  {
   "cell_type": "code",
   "execution_count": 5,
   "metadata": {},
   "outputs": [],
   "source": [
    "\n",
    "import cv2\n",
    "import dlib\n",
    "detector = dlib.get_frontal_face_detector()\n",
    "predictor = dlib.shape_predictor(\"shape_predictor_68_face_landmarks.dat\")\n",
    "img = cv2.imread('pic2.jpg',1)\n",
    "img_gray = cv2.cvtColor(img, cv2.COLOR_BGR2GRAY)\n",
    "faces_in_image = detector(img_gray, 0)\n",
    "for face in faces_in_image:\n",
    "    # assign the facial landmarks\n",
    "    landmarks = predictor(img_gray, face)\n",
    "\n",
    "    # unpack the 68 landmark coordinates from the dlib object into a list \n",
    "    landmarks_list = []\n",
    "    for i in range(0, landmarks.num_parts):\n",
    "        landmarks_list.append((landmarks.part(i).x, landmarks.part(i).y))\n",
    "    \n",
    "    #print(landmarks_list)\n",
    "    # for each landmark, plot and write number\n",
    "    for landmark_num, xy in enumerate(landmarks_list, start = 1):\n",
    "        cv2.circle(img, (xy[0], xy[1]), 3, (168, 0, 20), -1)\n",
    "        cv2.putText(img, str(landmark_num),(xy[0]-7,xy[1]+5), cv2.FONT_HERSHEY_SIMPLEX, 0.4,(255,255,255), 1)\n",
    "cv2.imshow('img',img)\n",
    "cv2.waitKey(0)\n",
    "cv2.destroyAllWindows()"
   ]
  },
  {
   "cell_type": "markdown",
   "metadata": {},
   "source": [
    "## Applying above method to mark facial features on live stream"
   ]
  },
  {
   "cell_type": "code",
   "execution_count": 4,
   "metadata": {},
   "outputs": [],
   "source": [
    "import cv2\n",
    "import dlib\n",
    "\n",
    "detector = dlib.get_frontal_face_detector()\n",
    "predictor = dlib.shape_predictor(\"shape_predictor_68_face_landmarks.dat\")\n",
    "cap= cv2.VideoCapture(0)\n",
    "\n",
    "#cap.isOpened()\n",
    "while(True):\n",
    "    #Capture frame-by frame\n",
    "    ret, frame = cap.read()\n",
    "    \n",
    "    #Our operations on the frane, come here\n",
    "    img_gray = cv2.cvtColor(frame, cv2.COLOR_BGR2GRAY)\n",
    "    faces_in_image = detector(img_gray, 0)\n",
    "    for face in faces_in_image:\n",
    "\n",
    "        # assign the facial landmarks\n",
    "        landmarks = predictor(img_gray, face)\n",
    "\n",
    "        # unpack the 68 landmark coordinates from the dlib object into a list \n",
    "        landmarks_list = []\n",
    "        for i in range(0, landmarks.num_parts):\n",
    "            landmarks_list.append((landmarks.part(i).x, landmarks.part(i).y))\n",
    "        #print(len(landmarks_list))\n",
    "        # for each landmark, plot and write number\n",
    "        for landmark_num, xy in enumerate(landmarks_list, start = 1):\n",
    "            cv2.circle(frame, (xy[0], xy[1]), 12, (168, 0, 20), -1)\n",
    "            cv2.putText(frame, str(landmark_num),(xy[0]-7,xy[1]+5), cv2.FONT_HERSHEY_SIMPLEX, 0.4,(255,255,255), 1)\n",
    "    \n",
    "    #Display the resulting frame\n",
    "    cv2.imshow('frame',frame)\n",
    "    if(cv2.waitKey(1) & 0xFF == ord('q')):\n",
    "        break\n",
    "\n",
    "#When everything done, release the capture\n",
    "cap.release()\n",
    "cv2.destroyAllWindows()"
   ]
  },
  {
   "cell_type": "code",
   "execution_count": 3,
   "metadata": {},
   "outputs": [
    {
     "ename": "SyntaxError",
     "evalue": "invalid syntax (<ipython-input-3-fbfdcdb706fd>, line 1)",
     "output_type": "error",
     "traceback": [
      "\u001b[0;36m  File \u001b[0;32m\"<ipython-input-3-fbfdcdb706fd>\"\u001b[0;36m, line \u001b[0;32m1\u001b[0m\n\u001b[0;31m    cv2.destroyAllWindows()qq\u001b[0m\n\u001b[0m                           ^\u001b[0m\n\u001b[0;31mSyntaxError\u001b[0m\u001b[0;31m:\u001b[0m invalid syntax\n"
     ]
    }
   ],
   "source": [
    "cv2.destroyAllWindows()qq"
   ]
  },
  {
   "cell_type": "code",
   "execution_count": null,
   "metadata": {},
   "outputs": [],
   "source": []
  },
  {
   "cell_type": "markdown",
   "metadata": {},
   "source": []
  },
  {
   "cell_type": "code",
   "execution_count": null,
   "metadata": {},
   "outputs": [],
   "source": []
  }
 ],
 "metadata": {
  "kernelspec": {
   "display_name": "Python 3",
   "language": "python",
   "name": "python3"
  },
  "language_info": {
   "codemirror_mode": {
    "name": "ipython",
    "version": 3
   },
   "file_extension": ".py",
   "mimetype": "text/x-python",
   "name": "python",
   "nbconvert_exporter": "python",
   "pygments_lexer": "ipython3",
   "version": "3.8.1"
  }
 },
 "nbformat": 4,
 "nbformat_minor": 4
}
