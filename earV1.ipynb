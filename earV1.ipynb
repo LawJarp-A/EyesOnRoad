{
 "cells": [
  {
   "cell_type": "code",
   "execution_count": 1,
   "metadata": {
    "pycharm": {
     "is_executing": false
    }
   },
   "outputs": [],
   "source": [
    "import cv2\n",
    "import dlib\n",
    "import math\n",
    "import time"
   ]
  },
  {
   "cell_type": "code",
   "execution_count": 14,
   "metadata": {},
   "outputs": [],
   "source": [
    "def Eucdist(x,x1):\n",
    "    d = math.sqrt((x[0]-x1[0])**2 + (x[1]-x1[1])**2)\n",
    "    return d"
   ]
  },
  {
   "cell_type": "code",
   "execution_count": 15,
   "metadata": {},
   "outputs": [],
   "source": [
    "def ratio(left,right):    \n",
    "    a = Eucdist(left[1],left[5])\n",
    "    b = Eucdist(left[2],left[4])\n",
    "    c = Eucdist(left[0],left[3])\n",
    "    d1 = (a+b)/(2*c)\n",
    "    a = Eucdist(right[1],right[5])\n",
    "    b = Eucdist(right[2],right[4])\n",
    "    c = Eucdist(right[0],right[3])\n",
    "    d2 = (a+b)/(2*c)\n",
    "    return (d1+d2)/2"
   ]
  },
  {
   "cell_type": "code",
   "execution_count": null,
   "metadata": {},
   "outputs": [],
   "source": [
    "\n",
    "    "
   ]
  },
  {
   "cell_type": "code",
   "execution_count": 20,
   "metadata": {},
   "outputs": [],
   "source": [
    "count = 0\n",
    "detector = dlib.get_frontal_face_detector()\n",
    "predictor = dlib.shape_predictor(\"shape_predictor_68_face_landmarks.dat\")\n",
    "cap = cv2.VideoCapture(0)\n",
    "thres = 3.5\n",
    "f_t = 3\n",
    "while(True):\n",
    "    ret, frame = cap.read()\n",
    "    \n",
    "    img_gray = cv2.cvtColor(frame, cv2.COLOR_BGR2GRAY)\n",
    "    faces_img = detector(img_gray,0)\n",
    "    for face in faces_img:\n",
    "        landmarks = predictor(img_gray, face)\n",
    "        #landmarks_list = []\n",
    "        left_eye = []\n",
    "        right_eye = []\n",
    "        #for i in range(0, landmarks.num_parts):\n",
    "        #    landmarks_list.append((landmarks.part(i).x, landmarks.part(i).y))\n",
    "        for i in range(36,42):\n",
    "            left_eye.append((landmarks.part(i).x, landmarks.part(i).y))\n",
    "        for i in range(42,48):\n",
    "            right_eye.append((landmarks.part(i).x, landmarks.part(i).y))\n",
    "        for i in left_eye:\n",
    "            cv2.circle(frame, (i[0],i[1]), 3, (168, 0, 20), -1)\n",
    "        for i in right_eye:\n",
    "            cv2.circle(frame, (i[0],i[1]), 3, (168, 0, 20), -1)\n",
    "        k = ratio(left_eye,right_eye)\n",
    "        cv2.putText(frame, str(k),(10,10), cv2.FONT_HERSHEY_SIMPLEX, 0.4,(0,255,255), 1)\n",
    "        break\n",
    "  #  print(k)\n",
    "    if(k<0.25):\n",
    "        count+=1\n",
    "        if(count>15):\n",
    "           # print(\"Sleeppppyy\")\n",
    "            \n",
    "            cv2.putText(frame, \"sleepy\",(10,100), cv2.FONT_HERSHEY_SIMPLEX, 0.6,(0,255,255), 1)\n",
    "    else:\n",
    "        count = 0\n",
    "        \n",
    "    cv2.imshow('frame',frame)\n",
    "    time.sleep(0.01)\n",
    "    \n",
    "    if(cv2.waitKey(1) & 0xFF == ord('q')):\n",
    "        break                                                                                      \n",
    "                                                                                                \n",
    "#When everything done, release the capture\n",
    "cap.release()\n",
    "cv2.destroyAllWindows()                                                                                                   \n",
    "                                                                                                   "
   ]
  },
  {
   "cell_type": "code",
   "execution_count": null,
   "metadata": {},
   "outputs": [],
   "source": [
    "cv2.destroyAllWindows()                                                                                                   \n",
    "                          "
   ]
  },
  {
   "cell_type": "code",
   "execution_count": null,
   "metadata": {},
   "outputs": [],
   "source": []
  }
 ],
 "metadata": {
  "kernelspec": {
   "display_name": "Python 3",
   "language": "python",
   "name": "python3"
  },
  "language_info": {
   "codemirror_mode": {
    "name": "ipython",
    "version": 3
   },
   "file_extension": ".py",
   "mimetype": "text/x-python",
   "name": "python",
   "nbconvert_exporter": "python",
   "pygments_lexer": "ipython3",
   "version": "3.8.1"
  }
 },
 "nbformat": 4,
 "nbformat_minor": 1
}
